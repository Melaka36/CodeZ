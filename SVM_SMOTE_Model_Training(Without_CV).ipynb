{
  "nbformat": 4,
  "nbformat_minor": 0,
  "metadata": {
    "colab": {
      "provenance": [],
      "collapsed_sections": [
        "4VOOlXoWi_ez"
      ],
      "gpuType": "T4",
      "mount_file_id": "1_EXYb79X7l1h3ZfiBy4vqcXC-b-hAFYw",
      "authorship_tag": "ABX9TyNT+qs9OlAGK04eb7NOTXls",
      "include_colab_link": true
    },
    "kernelspec": {
      "name": "python3",
      "display_name": "Python 3"
    },
    "language_info": {
      "name": "python"
    },
    "accelerator": "GPU"
  },
  "cells": [
    {
      "cell_type": "markdown",
      "metadata": {
        "id": "view-in-github",
        "colab_type": "text"
      },
      "source": [
        "<a href=\"https://colab.research.google.com/github/Melaka36/CodeZ/blob/main/SVM_SMOTE_Model_Training(Without_CV).ipynb\" target=\"_parent\"><img src=\"https://colab.research.google.com/assets/colab-badge.svg\" alt=\"Open In Colab\"/></a>"
      ]
    },
    {
      "cell_type": "code",
      "execution_count": null,
      "metadata": {
        "id": "jFt9Ail1hJ-J"
      },
      "outputs": [],
      "source": [
        "import numpy as np # linear algebra\n",
        "import pandas as pd # data processing, CSV file I/O (e.g. pd.read_csv)\n",
        "import matplotlib.pyplot as plt # data visualization\n",
        "import plotly.graph_objects as go\n",
        "import plotly.express as px\n",
        "import seaborn as sns # data visualization\n",
        "\n",
        "import xgboost as xgb\n",
        "from sklearn.linear_model import LogisticRegression\n",
        "from sklearn.preprocessing import LabelEncoder\n",
        "from sklearn.model_selection import train_test_split,learning_curve\n",
        "from sklearn.metrics import accuracy_score\n",
        "from sklearn.model_selection import cross_val_score\n",
        "from imblearn.over_sampling import SVMSMOTE\n",
        "from sklearn.model_selection import GridSearchCV, RandomizedSearchCV\n",
        "from sklearn.metrics import confusion_matrix,accuracy_score, precision_score, recall_score, f1_score, roc_auc_score, roc_curve, auc\n"
      ]
    },
    {
      "cell_type": "code",
      "source": [
        "df=pd.read_csv(\"drive/MyDrive/4th_Year_Research/Implementation/Dataset/Pre-Processed-Dataset.csv\")\n",
        "df.shape"
      ],
      "metadata": {
        "colab": {
          "base_uri": "https://localhost:8080/"
        },
        "id": "59t6yI_ehk6O",
        "outputId": "c1e711ca-c71f-4bbd-ab75-46cd05a1b0bf"
      },
      "execution_count": null,
      "outputs": [
        {
          "output_type": "execute_result",
          "data": {
            "text/plain": [
              "(3630, 25)"
            ]
          },
          "metadata": {},
          "execution_count": 2
        }
      ]
    },
    {
      "cell_type": "markdown",
      "metadata": {
        "id": "X2caPFwlZ5G2"
      },
      "source": [
        "# Splitting data into X and Y"
      ]
    },
    {
      "cell_type": "code",
      "execution_count": null,
      "metadata": {
        "id": "-WGbPPKYYl7-"
      },
      "outputs": [],
      "source": [
        "#will drop the Nationality and International columns since they are highly correlated and only one nationality significantly dominates the data.\n",
        "X = df.drop(columns=['Target'], axis=1)\n",
        "Y = df['Target']"
      ]
    },
    {
      "cell_type": "code",
      "source": [
        "X.shape"
      ],
      "metadata": {
        "colab": {
          "base_uri": "https://localhost:8080/"
        },
        "id": "w-KbTIUtrsBA",
        "outputId": "d25ecf16-bc38-46fa-b8b1-81dbbde89040"
      },
      "execution_count": null,
      "outputs": [
        {
          "output_type": "execute_result",
          "data": {
            "text/plain": [
              "(3630, 24)"
            ]
          },
          "metadata": {},
          "execution_count": 4
        }
      ]
    },
    {
      "cell_type": "code",
      "execution_count": null,
      "metadata": {
        "colab": {
          "base_uri": "https://localhost:8080/"
        },
        "id": "EOX_sbrPaUFE",
        "outputId": "c12afa2f-8b3d-4f88-df37-717a92f9112d"
      },
      "outputs": [
        {
          "output_type": "stream",
          "name": "stdout",
          "text": [
            "<class 'pandas.core.frame.DataFrame'>\n",
            "RangeIndex: 3630 entries, 0 to 3629\n",
            "Data columns (total 24 columns):\n",
            " #   Column                                          Non-Null Count  Dtype  \n",
            "---  ------                                          --------------  -----  \n",
            " 0   Marital status                                  3630 non-null   int64  \n",
            " 1   Application mode                                3630 non-null   int64  \n",
            " 2   Application order                               3630 non-null   int64  \n",
            " 3   Course                                          3630 non-null   int64  \n",
            " 4   Daytime/evening attendance                      3630 non-null   int64  \n",
            " 5   Previous qualification                          3630 non-null   int64  \n",
            " 6   Nacionality                                     3630 non-null   int64  \n",
            " 7   Mother's qualification                          3630 non-null   int64  \n",
            " 8   Father's qualification                          3630 non-null   int64  \n",
            " 9   Mother's occupation                             3630 non-null   int64  \n",
            " 10  Displaced                                       3630 non-null   int64  \n",
            " 11  Educational special needs                       3630 non-null   int64  \n",
            " 12  Debtor                                          3630 non-null   int64  \n",
            " 13  Tuition fees up to date                         3630 non-null   int64  \n",
            " 14  Gender                                          3630 non-null   int64  \n",
            " 15  Scholarship holder                              3630 non-null   int64  \n",
            " 16  Age at enrollment                               3630 non-null   int64  \n",
            " 17  Curricular units 2nd sem (credited)             3630 non-null   int64  \n",
            " 18  Curricular units 2nd sem (enrolled)             3630 non-null   int64  \n",
            " 19  Curricular units 2nd sem (evaluations)          3630 non-null   int64  \n",
            " 20  Curricular units 2nd sem (without evaluations)  3630 non-null   int64  \n",
            " 21  Unemployment rate                               3630 non-null   float64\n",
            " 22  Inflation rate                                  3630 non-null   float64\n",
            " 23  GDP                                             3630 non-null   float64\n",
            "dtypes: float64(3), int64(21)\n",
            "memory usage: 680.8 KB\n"
          ]
        }
      ],
      "source": [
        "X.info()\n"
      ]
    },
    {
      "cell_type": "code",
      "execution_count": null,
      "metadata": {
        "colab": {
          "base_uri": "https://localhost:8080/"
        },
        "id": "Szi0J320aWJ1",
        "outputId": "eaf8bba0-130c-4c1b-c8ce-48abcf76c429"
      },
      "outputs": [
        {
          "output_type": "execute_result",
          "data": {
            "text/plain": [
              "0    0\n",
              "1    1\n",
              "2    0\n",
              "3    1\n",
              "4    1\n",
              "Name: Target, dtype: int64"
            ]
          },
          "metadata": {},
          "execution_count": 6
        }
      ],
      "source": [
        "Y.head()"
      ]
    },
    {
      "cell_type": "markdown",
      "metadata": {
        "id": "RvbYkqDhau61"
      },
      "source": [
        "\n",
        "\n",
        "---\n",
        "\n",
        "# Splitting Data Into Training and Testing\n",
        "\n",
        "---\n",
        "\n"
      ]
    },
    {
      "cell_type": "code",
      "execution_count": null,
      "metadata": {
        "id": "w6F_ZbgbaubI"
      },
      "outputs": [],
      "source": [
        "X_train, X_test, Y_train, Y_test = train_test_split(X, Y, test_size=0.2, random_state=3)"
      ]
    },
    {
      "cell_type": "code",
      "execution_count": null,
      "metadata": {
        "colab": {
          "base_uri": "https://localhost:8080/"
        },
        "id": "_SuDxZsjaYvS",
        "outputId": "906e2633-d805-46ea-9d23-08a6226b936b"
      },
      "outputs": [
        {
          "output_type": "stream",
          "name": "stdout",
          "text": [
            "(3630, 24) (2904, 24) (726, 24)\n"
          ]
        }
      ],
      "source": [
        "print(X.shape, X_train.shape, X_test.shape)"
      ]
    },
    {
      "cell_type": "markdown",
      "source": [
        "# SVM_SMOTE"
      ],
      "metadata": {
        "id": "tVND4PrrVdZW"
      }
    },
    {
      "cell_type": "code",
      "source": [
        "# Initialize SVM SMOTE\n",
        "svm_smote = SVMSMOTE(sampling_strategy='auto', random_state=42, n_jobs=-1)\n",
        "\n",
        "# Apply SVM SMOTE to the training data\n",
        "X_train_resampled, Y_train_resampled = svm_smote.fit_resample(X_train, Y_train)\n"
      ],
      "metadata": {
        "colab": {
          "base_uri": "https://localhost:8080/"
        },
        "id": "lrVQQOihSfQi",
        "outputId": "f617562b-0e34-43e1-f767-7653600dc09a"
      },
      "execution_count": null,
      "outputs": [
        {
          "output_type": "stream",
          "name": "stderr",
          "text": [
            "/usr/local/lib/python3.10/dist-packages/imblearn/over_sampling/_smote/filter.py:461: FutureWarning: The parameter `n_jobs` has been deprecated in 0.10 and will be removed in 0.12. You can pass an nearest neighbors estimator where `n_jobs` is already set instead.\n",
            "  warnings.warn(\n"
          ]
        }
      ]
    },
    {
      "cell_type": "markdown",
      "source": [
        "# **Model Training**"
      ],
      "metadata": {
        "id": "waomcbsHutO7"
      }
    },
    {
      "cell_type": "code",
      "source": [
        "X_train = X_train_resampled\n",
        "Y_train = Y_train_resampled"
      ],
      "metadata": {
        "id": "K1gMlp6ujtwi"
      },
      "execution_count": null,
      "outputs": []
    },
    {
      "cell_type": "code",
      "source": [
        "count_of_ones = (Y_train == 1).sum()\n",
        "count_of_zeros = (Y_train == 0).sum()\n",
        "print(f\"Number of rows with Target = 0: {count_of_zeros}\")\n",
        "print(f\"Number of rows with Target = 1: {count_of_ones }\")"
      ],
      "metadata": {
        "colab": {
          "base_uri": "https://localhost:8080/"
        },
        "id": "xSlzRxlDpvzJ",
        "outputId": "65884760-d816-4fe4-c51e-fec86fec5bf3"
      },
      "execution_count": null,
      "outputs": [
        {
          "output_type": "stream",
          "name": "stdout",
          "text": [
            "Number of rows with Target = 0: 1773\n",
            "Number of rows with Target = 1: 1773\n"
          ]
        }
      ]
    },
    {
      "cell_type": "code",
      "source": [
        "print(X_train.shape, Y_train.shape,)"
      ],
      "metadata": {
        "colab": {
          "base_uri": "https://localhost:8080/"
        },
        "id": "UM8zcFvznquj",
        "outputId": "7914e905-5985-4c96-ce76-e6a82dff5822"
      },
      "execution_count": null,
      "outputs": [
        {
          "output_type": "stream",
          "name": "stdout",
          "text": [
            "(3546, 24) (3546,)\n"
          ]
        }
      ]
    },
    {
      "cell_type": "markdown",
      "metadata": {
        "id": "iGtQDe2tJGLK"
      },
      "source": [
        "# Logistic Regression"
      ]
    },
    {
      "cell_type": "code",
      "execution_count": null,
      "metadata": {
        "id": "UEl8u56JJOwF"
      },
      "outputs": [],
      "source": [
        "clf = LogisticRegression(max_iter=1000)  # Increase max_iter value\n",
        "clf.fit(X_train,Y_train)\n",
        "y_pred=clf.predict(X_test)"
      ]
    },
    {
      "cell_type": "code",
      "source": [
        "# Accuracy\n",
        "accuracy = accuracy_score(Y_test, y_pred)\n",
        "print(\"Accuracy:\", accuracy)\n",
        "\n",
        "# Precision\n",
        "precision = precision_score(Y_test, y_pred)\n",
        "print(\"Precision:\", precision)\n",
        "\n",
        "# Recall\n",
        "recall = recall_score(Y_test, y_pred)\n",
        "print(\"Recall:\", recall)\n",
        "\n",
        "# F1-Score\n",
        "f1 = f1_score(Y_test, y_pred)\n",
        "print(\"F1-Score:\", f1)\n",
        "\n",
        "# ROC-AUC\n",
        "roc_auc = roc_auc_score(Y_test, y_pred)\n",
        "print(\"ROC-AUC:\", roc_auc)\n",
        "\n",
        "# ROC Curve (if you want to visualize it)\n",
        "fpr, tpr, _ = roc_curve(Y_test, y_pred)\n",
        "roc_auc = auc(fpr, tpr)\n",
        "\n",
        "# Plot ROC Curve\n",
        "plt.figure()\n",
        "plt.plot(fpr, tpr, color='darkorange', lw=2, label='ROC curve (area = %0.2f)' % roc_auc)\n",
        "plt.plot([0, 1], [0, 1], color='navy', lw=2, linestyle='--')\n",
        "plt.xlim([0.0, 1.0])\n",
        "plt.ylim([0.0, 1.05])\n",
        "plt.xlabel('False Positive Rate')\n",
        "plt.ylabel('True Positive Rate')\n",
        "plt.title('Receiver Operating Characteristic')\n",
        "plt.legend(loc=\"lower right\")\n",
        "plt.show()"
      ],
      "metadata": {
        "colab": {
          "base_uri": "https://localhost:8080/",
          "height": 562
        },
        "id": "zbioTLpF_6t5",
        "outputId": "c13f6bbc-c42d-43c3-e906-ea3c54b82172"
      },
      "execution_count": null,
      "outputs": [
        {
          "output_type": "stream",
          "name": "stdout",
          "text": [
            "Accuracy: 0.7603305785123967\n",
            "Precision: 0.8004587155963303\n",
            "Recall: 0.8004587155963303\n",
            "F1-Score: 0.8004587155963303\n",
            "ROC-AUC: 0.7502293577981651\n"
          ]
        },
        {
          "output_type": "display_data",
          "data": {
            "text/plain": [
              "<Figure size 640x480 with 1 Axes>"
            ],
            "image/png": "[encoded data removed]"
          },
          "metadata": {}
        }
      ]
    },
    {
      "cell_type": "code",
      "source": [
        "conf_matrix = confusion_matrix(Y_test, y_pred)\n",
        "print(\"Confusion Matrix:\")\n",
        "print(conf_matrix)"
      ],
      "metadata": {
        "colab": {
          "base_uri": "https://localhost:8080/"
        },
        "id": "HR9eFbHusRlX",
        "outputId": "709fdf83-71d2-433f-c8de-11a272fb2508"
      },
      "execution_count": null,
      "outputs": [
        {
          "output_type": "stream",
          "name": "stdout",
          "text": [
            "Confusion Matrix:\n",
            "[[203  87]\n",
            " [ 87 349]]\n"
          ]
        }
      ]
    },
    {
      "cell_type": "markdown",
      "metadata": {
        "id": "nhA2OP_5kYn0"
      },
      "source": [
        "# Decision Trees"
      ]
    },
    {
      "cell_type": "code",
      "execution_count": null,
      "metadata": {
        "colab": {
          "base_uri": "https://localhost:8080/"
        },
        "id": "yCaIV4Eqkbkb",
        "outputId": "35631823-09e6-4c06-bf76-7aac9f5f4817"
      },
      "outputs": [
        {
          "output_type": "stream",
          "name": "stdout",
          "text": [
            "Without Scaling and without Cross Validation:  0.7410468319559229\n"
          ]
        }
      ],
      "source": [
        "from sklearn.tree import DecisionTreeClassifier\n",
        "clf = DecisionTreeClassifier(random_state=0)\n",
        "\n",
        "#without scaling\n",
        "clf.fit(X_train,Y_train)\n",
        "y_pred = clf.predict(X_test)\n",
        "print(\"Without Scaling and without Cross Validation: \",accuracy_score(Y_test,y_pred))"
      ]
    },
    {
      "cell_type": "code",
      "source": [
        "# Accuracy\n",
        "accuracy = accuracy_score(Y_test, y_pred)\n",
        "print(\"Accuracy:\", accuracy)\n",
        "\n",
        "# Precision\n",
        "precision = precision_score(Y_test, y_pred)\n",
        "print(\"Precision:\", precision)\n",
        "\n",
        "# Recall\n",
        "recall = recall_score(Y_test, y_pred)\n",
        "print(\"Recall:\", recall)\n",
        "\n",
        "# F1-Score\n",
        "f1 = f1_score(Y_test, y_pred)\n",
        "print(\"F1-Score:\", f1)\n",
        "\n",
        "# ROC-AUC\n",
        "roc_auc = roc_auc_score(Y_test, y_pred)\n",
        "print(\"ROC-AUC:\", roc_auc)\n",
        "\n",
        "# ROC Curve (if you want to visualize it)\n",
        "fpr, tpr, _ = roc_curve(Y_test, y_pred)\n",
        "roc_auc = auc(fpr, tpr)\n",
        "\n",
        "# Plot ROC Curve\n",
        "plt.figure()\n",
        "plt.plot(fpr, tpr, color='darkorange', lw=2, label='ROC curve (area = %0.2f)' % roc_auc)\n",
        "plt.plot([0, 1], [0, 1], color='navy', lw=2, linestyle='--')\n",
        "plt.xlim([0.0, 1.0])\n",
        "plt.ylim([0.0, 1.05])\n",
        "plt.xlabel('False Positive Rate')\n",
        "plt.ylabel('True Positive Rate')\n",
        "plt.title('Receiver Operating Characteristic')\n",
        "plt.legend(loc=\"lower right\")\n",
        "plt.show()"
      ],
      "metadata": {
        "colab": {
          "base_uri": "https://localhost:8080/",
          "height": 562
        },
        "outputId": "910f8e4d-546f-4b71-a7bd-ee726a305dd4",
        "id": "LMhGTj-yBfK-"
      },
      "execution_count": null,
      "outputs": [
        {
          "output_type": "stream",
          "name": "stdout",
          "text": [
            "Accuracy: 0.7410468319559229\n",
            "Precision: 0.7831050228310502\n",
            "Recall: 0.786697247706422\n",
            "F1-Score: 0.7848970251716247\n",
            "ROC-AUC: 0.7295555204049351\n"
          ]
        },
        {
          "output_type": "display_data",
          "data": {
            "text/plain": [
              "<Figure size 640x480 with 1 Axes>"
            ],
            "image/png": "[encoded data removed]"
          },
          "metadata": {}
        }
      ]
    },
    {
      "cell_type": "code",
      "source": [
        "conf_matrix = confusion_matrix(Y_test, y_pred)\n",
        "print(\"Confusion Matrix:\")\n",
        "print(conf_matrix)"
      ],
      "metadata": {
        "colab": {
          "base_uri": "https://localhost:8080/"
        },
        "outputId": "a1906d68-de87-4f58-84fa-1d63a8f4fe52",
        "id": "Vb6H6JCe7oDK"
      },
      "execution_count": null,
      "outputs": [
        {
          "output_type": "stream",
          "name": "stdout",
          "text": [
            "Confusion Matrix:\n",
            "[[195  95]\n",
            " [ 93 343]]\n"
          ]
        }
      ]
    },
    {
      "cell_type": "code",
      "source": [
        "group_names = ['True Neg','False Pos','False Neg','True Pos']\n",
        "group_counts = [\"{0:0.0f}\".format(value) for value in\n",
        "                conf_matrix.flatten()]\n",
        "group_percentages = [\"{0:.2%}\".format(value) for value in\n",
        "                     conf_matrix.flatten()/np.sum(conf_matrix)]\n",
        "labels = [f\"{v1}\\n{v2}\\n{v3}\" for v1, v2, v3 in\n",
        "          zip(group_names,group_counts,group_percentages)]\n",
        "labels = np.asarray(labels).reshape(2,2)\n",
        "sns.heatmap(conf_matrix, annot=labels, fmt='', cmap='Blues')"
      ],
      "metadata": {
        "colab": {
          "base_uri": "https://localhost:8080/",
          "height": 448
        },
        "outputId": "636eac12-962a-4529-fa0e-371926128431",
        "id": "MSUjl09W7oDL"
      },
      "execution_count": null,
      "outputs": [
        {
          "output_type": "execute_result",
          "data": {
            "text/plain": [
              "<Axes: >"
            ]
          },
          "metadata": {},
          "execution_count": 19
        },
        {
          "output_type": "display_data",
          "data": {
            "text/plain": [
              "<Figure size 640x480 with 2 Axes>"
            ],
            "image/png": "[encoded data removed]"
          },
          "metadata": {}
        }
      ]
    },
    {
      "cell_type": "markdown",
      "source": [
        "# Random Forest Classifier"
      ],
      "metadata": {
        "id": "-y29lAvkcIGw"
      }
    },
    {
      "cell_type": "code",
      "execution_count": null,
      "metadata": {
        "id": "SGtBiekpbsWU",
        "colab": {
          "base_uri": "https://localhost:8080/",
          "height": 74
        },
        "outputId": "d25578d3-852d-4bd2-84ca-4f3517dd693d"
      },
      "outputs": [
        {
          "output_type": "execute_result",
          "data": {
            "text/plain": [
              "RandomForestClassifier(max_depth=10, random_state=0)"
            ],
            "text/html": [
              "<style>#sk-container-id-1 {color: black;background-color: white;}#sk-container-id-1 pre{padding: 0;}#sk-container-id-1 div.sk-toggleable {background-color: white;}#sk-container-id-1 label.sk-toggleable__label {cursor: pointer;display: block;width: 100%;margin-bottom: 0;padding: 0.3em;box-sizing: border-box;text-align: center;}#sk-container-id-1 label.sk-toggleable__label-arrow:before {content: \"▸\";float: left;margin-right: 0.25em;color: #696969;}#sk-container-id-1 label.sk-toggleable__label-arrow:hover:before {color: black;}#sk-container-id-1 div.sk-estimator:hover label.sk-toggleable__label-arrow:before {color: black;}#sk-container-id-1 div.sk-toggleable__content {max-height: 0;max-width: 0;overflow: hidden;text-align: left;background-color: #f0f8ff;}#sk-container-id-1 div.sk-toggleable__content pre {margin: 0.2em;color: black;border-radius: 0.25em;background-color: #f0f8ff;}#sk-container-id-1 input.sk-toggleable__control:checked~div.sk-toggleable__content {max-height: 200px;max-width: 100%;overflow: auto;}#sk-container-id-1 input.sk-toggleable__control:checked~label.sk-toggleable__label-arrow:before {content: \"▾\";}#sk-container-id-1 div.sk-estimator input.sk-toggleable__control:checked~label.sk-toggleable__label {background-color: #d4ebff;}#sk-container-id-1 div.sk-label input.sk-toggleable__control:checked~label.sk-toggleable__label {background-color: #d4ebff;}#sk-container-id-1 input.sk-hidden--visually {border: 0;clip: rect(1px 1px 1px 1px);clip: rect(1px, 1px, 1px, 1px);height: 1px;margin: -1px;overflow: hidden;padding: 0;position: absolute;width: 1px;}#sk-container-id-1 div.sk-estimator {font-family: monospace;background-color: #f0f8ff;border: 1px dotted black;border-radius: 0.25em;box-sizing: border-box;margin-bottom: 0.5em;}#sk-container-id-1 div.sk-estimator:hover {background-color: #d4ebff;}#sk-container-id-1 div.sk-parallel-item::after {content: \"\";width: 100%;border-bottom: 1px solid gray;flex-grow: 1;}#sk-container-id-1 div.sk-label:hover label.sk-toggleable__label {background-color: #d4ebff;}#sk-container-id-1 div.sk-serial::before {content: \"\";position: absolute;border-left: 1px solid gray;box-sizing: border-box;top: 0;bottom: 0;left: 50%;z-index: 0;}#sk-container-id-1 div.sk-serial {display: flex;flex-direction: column;align-items: center;background-color: white;padding-right: 0.2em;padding-left: 0.2em;position: relative;}#sk-container-id-1 div.sk-item {position: relative;z-index: 1;}#sk-container-id-1 div.sk-parallel {display: flex;align-items: stretch;justify-content: center;background-color: white;position: relative;}#sk-container-id-1 div.sk-item::before, #sk-container-id-1 div.sk-parallel-item::before {content: \"\";position: absolute;border-left: 1px solid gray;box-sizing: border-box;top: 0;bottom: 0;left: 50%;z-index: -1;}#sk-container-id-1 div.sk-parallel-item {display: flex;flex-direction: column;z-index: 1;position: relative;background-color: white;}#sk-container-id-1 div.sk-parallel-item:first-child::after {align-self: flex-end;width: 50%;}#sk-container-id-1 div.sk-parallel-item:last-child::after {align-self: flex-start;width: 50%;}#sk-container-id-1 div.sk-parallel-item:only-child::after {width: 0;}#sk-container-id-1 div.sk-dashed-wrapped {border: 1px dashed gray;margin: 0 0.4em 0.5em 0.4em;box-sizing: border-box;padding-bottom: 0.4em;background-color: white;}#sk-container-id-1 div.sk-label label {font-family: monospace;font-weight: bold;display: inline-block;line-height: 1.2em;}#sk-container-id-1 div.sk-label-container {text-align: center;}#sk-container-id-1 div.sk-container {/* jupyter's `normalize.less` sets `[hidden] { display: none; }` but bootstrap.min.css set `[hidden] { display: none !important; }` so we also need the `!important` here to be able to override the default hidden behavior on the sphinx rendered scikit-learn.org. See: https://github.com/scikit-learn/scikit-learn/issues/21755 */display: inline-block !important;position: relative;}#sk-container-id-1 div.sk-text-repr-fallback {display: none;}</style><div id=\"sk-container-id-1\" class=\"sk-top-container\"><div class=\"sk-text-repr-fallback\"><pre>RandomForestClassifier(max_depth=10, random_state=0)</pre><b>In a Jupyter environment, please rerun this cell to show the HTML representation or trust the notebook. <br />On GitHub, the HTML representation is unable to render, please try loading this page with nbviewer.org.</b></div><div class=\"sk-container\" hidden><div class=\"sk-item\"><div class=\"sk-estimator sk-toggleable\"><input class=\"sk-toggleable__control sk-hidden--visually\" id=\"sk-estimator-id-1\" type=\"checkbox\" checked><label for=\"sk-estimator-id-1\" class=\"sk-toggleable__label sk-toggleable__label-arrow\">RandomForestClassifier</label><div class=\"sk-toggleable__content\"><pre>RandomForestClassifier(max_depth=10, random_state=0)</pre></div></div></div></div></div>"
            ]
          },
          "metadata": {},
          "execution_count": 20
        }
      ],
      "source": [
        "from sklearn.ensemble import RandomForestClassifier\n",
        "\n",
        "clf = RandomForestClassifier(max_depth=10, random_state=0)\n",
        "clf.fit(X_train,Y_train)\n"
      ]
    },
    {
      "cell_type": "code",
      "source": [
        "y_pred = clf.predict(X_test)\n",
        "print(\"Without Scaling and without CV: \",accuracy_score(Y_test,y_pred))\n",
        "scores = cross_val_score(clf, X_train, Y_train, cv=10)\n",
        "print(\"Without Scaling and With CV: \",scores.mean())"
      ],
      "metadata": {
        "colab": {
          "base_uri": "https://localhost:8080/"
        },
        "id": "M3Fe7ZNlcZLT",
        "outputId": "7c4ad8ae-1f36-440f-abaf-589940ba6ba2"
      },
      "execution_count": null,
      "outputs": [
        {
          "output_type": "stream",
          "name": "stdout",
          "text": [
            "Without Scaling and without CV:  0.8292011019283747\n",
            "Without Scaling and With CV:  0.8378769793904672\n"
          ]
        }
      ]
    },
    {
      "cell_type": "code",
      "source": [
        "# Accuracy\n",
        "accuracy = accuracy_score(Y_test, y_pred)\n",
        "print(\"Accuracy:\", accuracy)\n",
        "\n",
        "# Precision\n",
        "precision = precision_score(Y_test, y_pred)\n",
        "print(\"Precision:\", precision)\n",
        "\n",
        "# Recall\n",
        "recall = recall_score(Y_test, y_pred)\n",
        "print(\"Recall:\", recall)\n",
        "\n",
        "# F1-Score\n",
        "f1 = f1_score(Y_test, y_pred)\n",
        "print(\"F1-Score:\", f1)\n",
        "\n",
        "# ROC-AUC\n",
        "roc_auc = roc_auc_score(Y_test, y_pred)\n",
        "print(\"ROC-AUC:\", roc_auc)\n",
        "\n"
      ],
      "metadata": {
        "colab": {
          "base_uri": "https://localhost:8080/"
        },
        "id": "4zXcHvU3CXEA",
        "outputId": "d4e5aaaa-67c0-45b6-b06d-07e4ffbc3e17"
      },
      "execution_count": null,
      "outputs": [
        {
          "output_type": "stream",
          "name": "stdout",
          "text": [
            "Accuracy: 0.8292011019283747\n",
            "Precision: 0.8406113537117904\n",
            "Recall: 0.8830275229357798\n",
            "F1-Score: 0.861297539149888\n",
            "ROC-AUC: 0.8156516925023727\n"
          ]
        }
      ]
    },
    {
      "cell_type": "code",
      "source": [
        "conf_matrix = confusion_matrix(Y_test, y_pred)\n",
        "print(\"Confusion Matrix:\")\n",
        "print(conf_matrix)"
      ],
      "metadata": {
        "colab": {
          "base_uri": "https://localhost:8080/"
        },
        "outputId": "f1bfddf9-57c7-4ede-b7d9-ceef4eb76ab1",
        "id": "ZyaVYKpJ78kd"
      },
      "execution_count": null,
      "outputs": [
        {
          "output_type": "stream",
          "name": "stdout",
          "text": [
            "Confusion Matrix:\n",
            "[[217  73]\n",
            " [ 51 385]]\n"
          ]
        }
      ]
    },
    {
      "cell_type": "markdown",
      "source": [
        "# Support Vector Machines"
      ],
      "metadata": {
        "id": "wjwDTSgFcsi2"
      }
    },
    {
      "cell_type": "code",
      "source": [
        "from sklearn.svm import SVC\n",
        "clf = SVC(gamma='auto')\n",
        "\n",
        "svc = SVC()\n",
        "parameters = {'kernel':('linear', 'rbf'), 'C':[1, 10]}\n",
        "clf = GridSearchCV(svc, parameters)\n",
        "\n",
        "clf.fit(X_train,Y_train)\n",
        "y_pred = clf.predict(X_test)\n"
      ],
      "metadata": {
        "id": "Tf0yjTT-cvHG"
      },
      "execution_count": null,
      "outputs": []
    },
    {
      "cell_type": "code",
      "source": [
        "# Accuracy\n",
        "accuracy = accuracy_score(Y_test, y_pred)\n",
        "print(\"Accuracy:\", accuracy)\n",
        "\n",
        "# Precision\n",
        "precision = precision_score(Y_test, y_pred)\n",
        "print(\"Precision:\", precision)\n",
        "\n",
        "# Recall\n",
        "recall = recall_score(Y_test, y_pred)\n",
        "print(\"Recall:\", recall)\n",
        "\n",
        "# F1-Score\n",
        "f1 = f1_score(Y_test, y_pred)\n",
        "print(\"F1-Score:\", f1)\n",
        "\n",
        "# ROC-AUC\n",
        "roc_auc = roc_auc_score(Y_test, y_pred)\n",
        "print(\"ROC-AUC:\", roc_auc)\n"
      ],
      "metadata": {
        "id": "RYKguFEECgra",
        "colab": {
          "base_uri": "https://localhost:8080/"
        },
        "outputId": "2c52460b-27d2-419a-f5cd-424c03a341bf"
      },
      "execution_count": null,
      "outputs": [
        {
          "output_type": "stream",
          "name": "stdout",
          "text": [
            "Accuracy: 0.7988980716253443\n",
            "Precision: 0.8295454545454546\n",
            "Recall: 0.8371559633027523\n",
            "F1-Score: 0.8333333333333334\n",
            "ROC-AUC: 0.7892676368237901\n"
          ]
        }
      ]
    },
    {
      "cell_type": "markdown",
      "source": [
        "# Naive Bayers"
      ],
      "metadata": {
        "id": "4VOOlXoWi_ez"
      }
    },
    {
      "cell_type": "code",
      "source": [
        "from sklearn.naive_bayes import GaussianNB\n",
        "clf = GaussianNB()\n",
        "clf.fit(X_train,Y_train)\n",
        "\n",
        "y_pred = clf.predict(X_test)"
      ],
      "metadata": {
        "id": "31YDIRL8c0Aq"
      },
      "execution_count": null,
      "outputs": []
    },
    {
      "cell_type": "code",
      "source": [
        "# Accuracy\n",
        "accuracy = accuracy_score(Y_test, y_pred)\n",
        "print(\"Accuracy:\", accuracy)\n",
        "\n",
        "# Precision\n",
        "precision = precision_score(Y_test, y_pred)\n",
        "print(\"Precision:\", precision)\n",
        "\n",
        "# Recall\n",
        "recall = recall_score(Y_test, y_pred)\n",
        "print(\"Recall:\", recall)\n",
        "\n",
        "# F1-Score\n",
        "f1 = f1_score(Y_test, y_pred)\n",
        "print(\"F1-Score:\", f1)\n",
        "\n",
        "# ROC-AUC\n",
        "roc_auc = roc_auc_score(Y_test, y_pred)\n",
        "print(\"ROC-AUC:\", roc_auc)\n",
        "\n",
        "# ROC Curve (if you want to visualize it)\n",
        "fpr, tpr, _ = roc_curve(Y_test, y_pred)\n",
        "roc_auc = auc(fpr, tpr)\n",
        "\n",
        "# # Plot ROC Curve\n",
        "# plt.figure()\n",
        "# plt.plot(fpr, tpr, color='darkorange', lw=2, label='ROC curve (area = %0.2f)' % roc_auc)\n",
        "# plt.plot([0, 1], [0, 1], color='navy', lw=2, linestyle='--')\n",
        "# plt.xlim([0.0, 1.0])\n",
        "# plt.ylim([0.0, 1.05])\n",
        "# plt.xlabel('False Positive Rate')\n",
        "# plt.ylabel('True Positive Rate')\n",
        "# plt.title('Receiver Operating Characteristic')\n",
        "# plt.legend(loc=\"lower right\")\n",
        "# plt.show()"
      ],
      "metadata": {
        "colab": {
          "base_uri": "https://localhost:8080/"
        },
        "id": "xYQEBl-_CjJm",
        "outputId": "e484316f-03b9-4d67-b52a-8fb4791df447"
      },
      "execution_count": null,
      "outputs": [
        {
          "output_type": "stream",
          "name": "stdout",
          "text": [
            "Accuracy: 0.7424242424242424\n",
            "Precision: 0.749498997995992\n",
            "Recall: 0.8577981651376146\n",
            "F1-Score: 0.8\n",
            "ROC-AUC: 0.713381841189497\n"
          ]
        }
      ]
    },
    {
      "cell_type": "code",
      "source": [
        "conf_matrix = confusion_matrix(Y_test, y_pred)\n",
        "print(\"Confusion Matrix:\")\n",
        "print(conf_matrix)"
      ],
      "metadata": {
        "colab": {
          "base_uri": "https://localhost:8080/"
        },
        "outputId": "61e07d1d-cc7e-4ac4-a1a4-0a8a216ac9b0",
        "id": "SkUUWoTh8X1H"
      },
      "execution_count": null,
      "outputs": [
        {
          "output_type": "stream",
          "name": "stdout",
          "text": [
            "Confusion Matrix:\n",
            "[[165 125]\n",
            " [ 62 374]]\n"
          ]
        }
      ]
    },
    {
      "cell_type": "code",
      "source": [
        "group_names = ['True Neg','False Pos','False Neg','True Pos']\n",
        "group_counts = [\"{0:0.0f}\".format(value) for value in\n",
        "                conf_matrix.flatten()]\n",
        "group_percentages = [\"{0:.2%}\".format(value) for value in\n",
        "                     conf_matrix.flatten()/np.sum(conf_matrix)]\n",
        "labels = [f\"{v1}\\n{v2}\\n{v3}\" for v1, v2, v3 in\n",
        "          zip(group_names,group_counts,group_percentages)]\n",
        "labels = np.asarray(labels).reshape(2,2)\n",
        "sns.heatmap(conf_matrix, annot=labels, fmt='', cmap='Blues')"
      ],
      "metadata": {
        "colab": {
          "base_uri": "https://localhost:8080/",
          "height": 448
        },
        "outputId": "394adcea-06a7-4a19-dc17-1a939758f414",
        "id": "2LnS8jOD8X1J"
      },
      "execution_count": null,
      "outputs": [
        {
          "output_type": "execute_result",
          "data": {
            "text/plain": [
              "<Axes: >"
            ]
          },
          "metadata": {},
          "execution_count": 29
        },
        {
          "output_type": "display_data",
          "data": {
            "text/plain": [
              "<Figure size 640x480 with 2 Axes>"
            ],
            "image/png": "[encoded data removed]"
          },
          "metadata": {}
        }
      ]
    },
    {
      "cell_type": "markdown",
      "metadata": {
        "id": "FeyT_Sp6bJDe"
      },
      "source": [
        "# XGBoost"
      ]
    },
    {
      "cell_type": "code",
      "execution_count": null,
      "metadata": {
        "colab": {
          "base_uri": "https://localhost:8080/",
          "height": 248
        },
        "id": "DNqArRvQbBVQ",
        "outputId": "54bcafa9-1ded-49e5-fb66-8f91c7bd80e5"
      },
      "outputs": [
        {
          "output_type": "execute_result",
          "data": {
            "text/plain": [
              "XGBClassifier(base_score=None, booster=None, callbacks=None,\n",
              "              colsample_bylevel=None, colsample_bynode=None,\n",
              "              colsample_bytree=None, early_stopping_rounds=None,\n",
              "              enable_categorical=False, eval_metric=None, feature_types=None,\n",
              "              gamma=None, gpu_id=None, grow_policy=None, importance_type=None,\n",
              "              interaction_constraints=None, learning_rate=0.1, max_bin=None,\n",
              "              max_cat_threshold=None, max_cat_to_onehot=None,\n",
              "              max_delta_step=None, max_depth=5, max_leaves=None,\n",
              "              min_child_weight=None, missing=nan, monotone_constraints=None,\n",
              "              n_estimators=100, n_jobs=None, num_parallel_tree=None,\n",
              "              predictor=None, random_state=42, ...)"
            ],
            "text/html": [
              "<style>#sk-container-id-2 {color: black;background-color: white;}#sk-container-id-2 pre{padding: 0;}#sk-container-id-2 div.sk-toggleable {background-color: white;}#sk-container-id-2 label.sk-toggleable__label {cursor: pointer;display: block;width: 100%;margin-bottom: 0;padding: 0.3em;box-sizing: border-box;text-align: center;}#sk-container-id-2 label.sk-toggleable__label-arrow:before {content: \"▸\";float: left;margin-right: 0.25em;color: #696969;}#sk-container-id-2 label.sk-toggleable__label-arrow:hover:before {color: black;}#sk-container-id-2 div.sk-estimator:hover label.sk-toggleable__label-arrow:before {color: black;}#sk-container-id-2 div.sk-toggleable__content {max-height: 0;max-width: 0;overflow: hidden;text-align: left;background-color: #f0f8ff;}#sk-container-id-2 div.sk-toggleable__content pre {margin: 0.2em;color: black;border-radius: 0.25em;background-color: #f0f8ff;}#sk-container-id-2 input.sk-toggleable__control:checked~div.sk-toggleable__content {max-height: 200px;max-width: 100%;overflow: auto;}#sk-container-id-2 input.sk-toggleable__control:checked~label.sk-toggleable__label-arrow:before {content: \"▾\";}#sk-container-id-2 div.sk-estimator input.sk-toggleable__control:checked~label.sk-toggleable__label {background-color: #d4ebff;}#sk-container-id-2 div.sk-label input.sk-toggleable__control:checked~label.sk-toggleable__label {background-color: #d4ebff;}#sk-container-id-2 input.sk-hidden--visually {border: 0;clip: rect(1px 1px 1px 1px);clip: rect(1px, 1px, 1px, 1px);height: 1px;margin: -1px;overflow: hidden;padding: 0;position: absolute;width: 1px;}#sk-container-id-2 div.sk-estimator {font-family: monospace;background-color: #f0f8ff;border: 1px dotted black;border-radius: 0.25em;box-sizing: border-box;margin-bottom: 0.5em;}#sk-container-id-2 div.sk-estimator:hover {background-color: #d4ebff;}#sk-container-id-2 div.sk-parallel-item::after {content: \"\";width: 100%;border-bottom: 1px solid gray;flex-grow: 1;}#sk-container-id-2 div.sk-label:hover label.sk-toggleable__label {background-color: #d4ebff;}#sk-container-id-2 div.sk-serial::before {content: \"\";position: absolute;border-left: 1px solid gray;box-sizing: border-box;top: 0;bottom: 0;left: 50%;z-index: 0;}#sk-container-id-2 div.sk-serial {display: flex;flex-direction: column;align-items: center;background-color: white;padding-right: 0.2em;padding-left: 0.2em;position: relative;}#sk-container-id-2 div.sk-item {position: relative;z-index: 1;}#sk-container-id-2 div.sk-parallel {display: flex;align-items: stretch;justify-content: center;background-color: white;position: relative;}#sk-container-id-2 div.sk-item::before, #sk-container-id-2 div.sk-parallel-item::before {content: \"\";position: absolute;border-left: 1px solid gray;box-sizing: border-box;top: 0;bottom: 0;left: 50%;z-index: -1;}#sk-container-id-2 div.sk-parallel-item {display: flex;flex-direction: column;z-index: 1;position: relative;background-color: white;}#sk-container-id-2 div.sk-parallel-item:first-child::after {align-self: flex-end;width: 50%;}#sk-container-id-2 div.sk-parallel-item:last-child::after {align-self: flex-start;width: 50%;}#sk-container-id-2 div.sk-parallel-item:only-child::after {width: 0;}#sk-container-id-2 div.sk-dashed-wrapped {border: 1px dashed gray;margin: 0 0.4em 0.5em 0.4em;box-sizing: border-box;padding-bottom: 0.4em;background-color: white;}#sk-container-id-2 div.sk-label label {font-family: monospace;font-weight: bold;display: inline-block;line-height: 1.2em;}#sk-container-id-2 div.sk-label-container {text-align: center;}#sk-container-id-2 div.sk-container {/* jupyter's `normalize.less` sets `[hidden] { display: none; }` but bootstrap.min.css set `[hidden] { display: none !important; }` so we also need the `!important` here to be able to override the default hidden behavior on the sphinx rendered scikit-learn.org. See: https://github.com/scikit-learn/scikit-learn/issues/21755 */display: inline-block !important;position: relative;}#sk-container-id-2 div.sk-text-repr-fallback {display: none;}</style><div id=\"sk-container-id-2\" class=\"sk-top-container\"><div class=\"sk-text-repr-fallback\"><pre>XGBClassifier(base_score=None, booster=None, callbacks=None,\n",
              "              colsample_bylevel=None, colsample_bynode=None,\n",
              "              colsample_bytree=None, early_stopping_rounds=None,\n",
              "              enable_categorical=False, eval_metric=None, feature_types=None,\n",
              "              gamma=None, gpu_id=None, grow_policy=None, importance_type=None,\n",
              "              interaction_constraints=None, learning_rate=0.1, max_bin=None,\n",
              "              max_cat_threshold=None, max_cat_to_onehot=None,\n",
              "              max_delta_step=None, max_depth=5, max_leaves=None,\n",
              "              min_child_weight=None, missing=nan, monotone_constraints=None,\n",
              "              n_estimators=100, n_jobs=None, num_parallel_tree=None,\n",
              "              predictor=None, random_state=42, ...)</pre><b>In a Jupyter environment, please rerun this cell to show the HTML representation or trust the notebook. <br />On GitHub, the HTML representation is unable to render, please try loading this page with nbviewer.org.</b></div><div class=\"sk-container\" hidden><div class=\"sk-item\"><div class=\"sk-estimator sk-toggleable\"><input class=\"sk-toggleable__control sk-hidden--visually\" id=\"sk-estimator-id-2\" type=\"checkbox\" checked><label for=\"sk-estimator-id-2\" class=\"sk-toggleable__label sk-toggleable__label-arrow\">XGBClassifier</label><div class=\"sk-toggleable__content\"><pre>XGBClassifier(base_score=None, booster=None, callbacks=None,\n",
              "              colsample_bylevel=None, colsample_bynode=None,\n",
              "              colsample_bytree=None, early_stopping_rounds=None,\n",
              "              enable_categorical=False, eval_metric=None, feature_types=None,\n",
              "              gamma=None, gpu_id=None, grow_policy=None, importance_type=None,\n",
              "              interaction_constraints=None, learning_rate=0.1, max_bin=None,\n",
              "              max_cat_threshold=None, max_cat_to_onehot=None,\n",
              "              max_delta_step=None, max_depth=5, max_leaves=None,\n",
              "              min_child_weight=None, missing=nan, monotone_constraints=None,\n",
              "              n_estimators=100, n_jobs=None, num_parallel_tree=None,\n",
              "              predictor=None, random_state=42, ...)</pre></div></div></div></div></div>"
            ]
          },
          "metadata": {},
          "execution_count": 30
        }
      ],
      "source": [
        "bin_log = xgb.XGBClassifier(\n",
        "    n_estimators=100,  # Adjust the number of estimators (trees) as needed\n",
        "    max_depth=5,  # Adjust the depth of the trees as needed\n",
        "    learning_rate=0.1,  # Adjust the learning rate as needed\n",
        "    objective='binary:logistic',  # Use 'binary:logistic' for binary classification\n",
        "    random_state=42  # Set a random seed for reproducibility\n",
        ")\n",
        "bin_log.fit(X_train, Y_train)"
      ]
    },
    {
      "cell_type": "code",
      "execution_count": null,
      "metadata": {
        "id": "cG4XhuOobfUf"
      },
      "outputs": [],
      "source": [
        "target_prediction = bin_log.predict(X_test)\n",
        "# print(target_prediction)"
      ]
    },
    {
      "cell_type": "code",
      "execution_count": null,
      "metadata": {
        "colab": {
          "base_uri": "https://localhost:8080/"
        },
        "id": "FqdqWwAubnAd",
        "outputId": "57b0dbb7-812e-4ea5-bb70-09c366ddea1a"
      },
      "outputs": [
        {
          "output_type": "stream",
          "name": "stdout",
          "text": [
            "Accuracy: 0.8264462809917356\n"
          ]
        }
      ],
      "source": [
        "data_accuracy = accuracy_score(Y_test, target_prediction)\n",
        "print(\"Accuracy:\", data_accuracy)"
      ]
    },
    {
      "cell_type": "code",
      "source": [
        "# Accuracy\n",
        "accuracy = accuracy_score(Y_test, target_prediction)\n",
        "print(\"Accuracy:\", accuracy)\n",
        "\n",
        "# Precision\n",
        "precision = precision_score(Y_test, target_prediction)\n",
        "print(\"Precision:\", precision)\n",
        "\n",
        "# Recall\n",
        "recall = recall_score(Y_test, target_prediction)\n",
        "print(\"Recall:\", recall)\n",
        "\n",
        "# F1-Score\n",
        "f1 = f1_score(Y_test, target_prediction)\n",
        "print(\"F1-Score:\", f1)\n",
        "\n",
        "# ROC-AUC\n",
        "roc_auc = roc_auc_score(Y_test, target_prediction)\n",
        "print(\"ROC-AUC:\", roc_auc)\n"
      ],
      "metadata": {
        "colab": {
          "base_uri": "https://localhost:8080/"
        },
        "outputId": "0361d7cd-daf1-487e-bdb0-bdd9fccf6547",
        "id": "nAQ0UvfiBnb5"
      },
      "execution_count": null,
      "outputs": [
        {
          "output_type": "stream",
          "name": "stdout",
          "text": [
            "Accuracy: 0.8264462809917356\n",
            "Precision: 0.8384279475982532\n",
            "Recall: 0.8807339449541285\n",
            "F1-Score: 0.8590604026845637\n",
            "ROC-AUC: 0.8127807655805125\n"
          ]
        }
      ]
    },
    {
      "cell_type": "markdown",
      "source": [
        "# Gradient Boost"
      ],
      "metadata": {
        "id": "JI1hVdysYvZt"
      }
    },
    {
      "cell_type": "code",
      "source": [
        "from sklearn.ensemble import GradientBoostingClassifier\n",
        "# Initialize the Gradient Boosting classifier\n",
        "gb_classifier = GradientBoostingClassifier()\n",
        "\n",
        "# Fit the classifier on the training data\n",
        "gb_classifier.fit(X_train, Y_train)\n",
        "\n",
        "# Make predictions on the test data\n",
        "target_prediction = gb_classifier.predict(X_test)\n",
        "\n",
        "# Calculate the accuracy of the model\n",
        "accuracy = accuracy_score(Y_test, target_prediction)\n",
        "print(f'Accuracy: {accuracy}')"
      ],
      "metadata": {
        "colab": {
          "base_uri": "https://localhost:8080/"
        },
        "id": "r9YHo8L5Y0Rt",
        "outputId": "794a8102-f524-4331-86f3-2520e2a4d004"
      },
      "execution_count": null,
      "outputs": [
        {
          "output_type": "stream",
          "name": "stdout",
          "text": [
            "Accuracy: 0.8443526170798898\n"
          ]
        }
      ]
    },
    {
      "cell_type": "code",
      "source": [
        "# Accuracy\n",
        "accuracy = accuracy_score(Y_test, target_prediction)\n",
        "print(\"Accuracy:\", accuracy)\n",
        "\n",
        "# Precision\n",
        "precision = precision_score(Y_test, target_prediction)\n",
        "print(\"Precision:\", precision)\n",
        "\n",
        "# Recall\n",
        "recall = recall_score(Y_test, target_prediction)\n",
        "print(\"Recall:\", recall)\n",
        "\n",
        "# F1-Score\n",
        "f1 = f1_score(Y_test, target_prediction)\n",
        "print(\"F1-Score:\", f1)\n",
        "\n",
        "# ROC-AUC\n",
        "roc_auc = roc_auc_score(Y_test, target_prediction)\n",
        "print(\"ROC-AUC:\", roc_auc)\n",
        "\n",
        "# ROC Curve (if you want to visualize it)\n",
        "fpr, tpr, _ = roc_curve(Y_test, target_prediction)\n",
        "roc_auc = auc(fpr, tpr)"
      ],
      "metadata": {
        "colab": {
          "base_uri": "https://localhost:8080/"
        },
        "id": "kIp9LGu7XupH",
        "outputId": "3a4131ea-13b4-406a-ac72-91c63f24130f"
      },
      "execution_count": null,
      "outputs": [
        {
          "output_type": "stream",
          "name": "stdout",
          "text": [
            "Accuracy: 0.8443526170798898\n",
            "Precision: 0.8549450549450549\n",
            "Recall: 0.8922018348623854\n",
            "F1-Score: 0.8731762065095399\n",
            "ROC-AUC: 0.8323078139829169\n"
          ]
        }
      ]
    },
    {
      "cell_type": "code",
      "source": [
        "pip install catboost\n"
      ],
      "metadata": {
        "colab": {
          "base_uri": "https://localhost:8080/"
        },
        "id": "1Lu_UMruSUaO",
        "outputId": "ed30358c-b02a-4feb-ac0a-2766d0092f0b"
      },
      "execution_count": null,
      "outputs": [
        {
          "output_type": "stream",
          "name": "stdout",
          "text": [
            "Collecting catboost\n",
            "  Downloading catboost-1.2.2-cp310-cp310-manylinux2014_x86_64.whl (98.7 MB)\n",
            "\u001b[2K     \u001b[90m━━━━━━━━━━━━━━━━━━━━━━━━━━━━━━━━━━━━━━━━\u001b[0m \u001b[32m98.7/98.7 MB\u001b[0m \u001b[31m9.0 MB/s\u001b[0m eta \u001b[36m0:00:00\u001b[0m\n",
            "\u001b[?25hRequirement already satisfied: graphviz in /usr/local/lib/python3.10/dist-packages (from catboost) (0.20.1)\n",
            "Requirement already satisfied: matplotlib in /usr/local/lib/python3.10/dist-packages (from catboost) (3.7.1)\n",
            "Requirement already satisfied: numpy>=1.16.0 in /usr/local/lib/python3.10/dist-packages (from catboost) (1.23.5)\n",
            "Requirement already satisfied: pandas>=0.24 in /usr/local/lib/python3.10/dist-packages (from catboost) (1.5.3)\n",
            "Requirement already satisfied: scipy in /usr/local/lib/python3.10/dist-packages (from catboost) (1.11.2)\n",
            "Requirement already satisfied: plotly in /usr/local/lib/python3.10/dist-packages (from catboost) (5.15.0)\n",
            "Requirement already satisfied: six in /usr/local/lib/python3.10/dist-packages (from catboost) (1.16.0)\n",
            "Requirement already satisfied: python-dateutil>=2.8.1 in /usr/local/lib/python3.10/dist-packages (from pandas>=0.24->catboost) (2.8.2)\n",
            "Requirement already satisfied: pytz>=2020.1 in /usr/local/lib/python3.10/dist-packages (from pandas>=0.24->catboost) (2023.3.post1)\n",
            "Requirement already satisfied: contourpy>=1.0.1 in /usr/local/lib/python3.10/dist-packages (from matplotlib->catboost) (1.1.0)\n",
            "Requirement already satisfied: cycler>=0.10 in /usr/local/lib/python3.10/dist-packages (from matplotlib->catboost) (0.11.0)\n",
            "Requirement already satisfied: fonttools>=4.22.0 in /usr/local/lib/python3.10/dist-packages (from matplotlib->catboost) (4.42.1)\n",
            "Requirement already satisfied: kiwisolver>=1.0.1 in /usr/local/lib/python3.10/dist-packages (from matplotlib->catboost) (1.4.5)\n",
            "Requirement already satisfied: packaging>=20.0 in /usr/local/lib/python3.10/dist-packages (from matplotlib->catboost) (23.1)\n",
            "Requirement already satisfied: pillow>=6.2.0 in /usr/local/lib/python3.10/dist-packages (from matplotlib->catboost) (9.4.0)\n",
            "Requirement already satisfied: pyparsing>=2.3.1 in /usr/local/lib/python3.10/dist-packages (from matplotlib->catboost) (3.1.1)\n",
            "Requirement already satisfied: tenacity>=6.2.0 in /usr/local/lib/python3.10/dist-packages (from plotly->catboost) (8.2.3)\n",
            "Installing collected packages: catboost\n",
            "Successfully installed catboost-1.2.2\n"
          ]
        }
      ]
    },
    {
      "cell_type": "markdown",
      "source": [
        "# CatBoost"
      ],
      "metadata": {
        "id": "MPmjaX_sY08O"
      }
    },
    {
      "cell_type": "code",
      "source": [
        "from catboost import CatBoostClassifier\n",
        "\n",
        "model = CatBoostClassifier(iterations=100,  # Adjust the number of iterations as needed\n",
        "                           depth=5,  # Adjust the depth of the trees as needed\n",
        "                           learning_rate=0.1,  # Adjust the learning rate as needed\n",
        "                           loss_function='Logloss',  # Use 'Logloss' for binary classification\n",
        "                           random_seed=42)   # Set a random seed for reproducibility\n",
        "\n",
        "model.fit(X_train, Y_train)\n",
        "\n",
        "target_prediction = model.predict(X_test)\n",
        "\n",
        "# Evaluate the model's accuracy on the test data\n",
        "accuracy = accuracy_score(Y_test, target_prediction)\n",
        "print(f'Accuracy: {accuracy:.6f}')"
      ],
      "metadata": {
        "id": "R-bL59dqY7jz",
        "colab": {
          "base_uri": "https://localhost:8080/"
        },
        "outputId": "e8b0f9da-5ff4-4ddf-dc73-bf8248184196"
      },
      "execution_count": null,
      "outputs": [
        {
          "output_type": "stream",
          "name": "stdout",
          "text": [
            "0:\tlearn: 0.6370226\ttotal: 48.8ms\tremaining: 4.83s\n",
            "1:\tlearn: 0.5934732\ttotal: 52ms\tremaining: 2.55s\n",
            "2:\tlearn: 0.5599420\ttotal: 53.6ms\tremaining: 1.73s\n",
            "3:\tlearn: 0.5313049\ttotal: 55.3ms\tremaining: 1.33s\n",
            "4:\tlearn: 0.5091627\ttotal: 56.7ms\tremaining: 1.08s\n",
            "5:\tlearn: 0.4961706\ttotal: 58.1ms\tremaining: 910ms\n",
            "6:\tlearn: 0.4823503\ttotal: 59.5ms\tremaining: 791ms\n",
            "7:\tlearn: 0.4681947\ttotal: 60.9ms\tremaining: 700ms\n",
            "8:\tlearn: 0.4609702\ttotal: 62.2ms\tremaining: 629ms\n",
            "9:\tlearn: 0.4496249\ttotal: 63.6ms\tremaining: 573ms\n",
            "10:\tlearn: 0.4432581\ttotal: 65ms\tremaining: 526ms\n",
            "11:\tlearn: 0.4355350\ttotal: 66.3ms\tremaining: 486ms\n",
            "12:\tlearn: 0.4288825\ttotal: 67.7ms\tremaining: 453ms\n",
            "13:\tlearn: 0.4249001\ttotal: 69ms\tremaining: 424ms\n",
            "14:\tlearn: 0.4191583\ttotal: 70.4ms\tremaining: 399ms\n",
            "15:\tlearn: 0.4159040\ttotal: 71.7ms\tremaining: 376ms\n",
            "16:\tlearn: 0.4114544\ttotal: 73ms\tremaining: 357ms\n",
            "17:\tlearn: 0.4085729\ttotal: 74.4ms\tremaining: 339ms\n",
            "18:\tlearn: 0.4014865\ttotal: 75.7ms\tremaining: 323ms\n",
            "19:\tlearn: 0.3993569\ttotal: 77ms\tremaining: 308ms\n",
            "20:\tlearn: 0.3965021\ttotal: 78.4ms\tremaining: 295ms\n",
            "21:\tlearn: 0.3931980\ttotal: 80.1ms\tremaining: 284ms\n",
            "22:\tlearn: 0.3903722\ttotal: 81.8ms\tremaining: 274ms\n",
            "23:\tlearn: 0.3883327\ttotal: 83.2ms\tremaining: 263ms\n",
            "24:\tlearn: 0.3864636\ttotal: 84.5ms\tremaining: 254ms\n",
            "25:\tlearn: 0.3837079\ttotal: 85.9ms\tremaining: 244ms\n",
            "26:\tlearn: 0.3819290\ttotal: 87.2ms\tremaining: 236ms\n",
            "27:\tlearn: 0.3805445\ttotal: 88.6ms\tremaining: 228ms\n",
            "28:\tlearn: 0.3791001\ttotal: 90ms\tremaining: 220ms\n",
            "29:\tlearn: 0.3778307\ttotal: 91.3ms\tremaining: 213ms\n",
            "30:\tlearn: 0.3763088\ttotal: 92.6ms\tremaining: 206ms\n",
            "31:\tlearn: 0.3742098\ttotal: 94ms\tremaining: 200ms\n",
            "32:\tlearn: 0.3725988\ttotal: 95.3ms\tremaining: 193ms\n",
            "33:\tlearn: 0.3708897\ttotal: 96.6ms\tremaining: 187ms\n",
            "34:\tlearn: 0.3679635\ttotal: 97.9ms\tremaining: 182ms\n",
            "35:\tlearn: 0.3669809\ttotal: 99.2ms\tremaining: 176ms\n",
            "36:\tlearn: 0.3652268\ttotal: 101ms\tremaining: 171ms\n",
            "37:\tlearn: 0.3643585\ttotal: 102ms\tremaining: 166ms\n",
            "38:\tlearn: 0.3625767\ttotal: 103ms\tremaining: 162ms\n",
            "39:\tlearn: 0.3617186\ttotal: 105ms\tremaining: 157ms\n",
            "40:\tlearn: 0.3611511\ttotal: 106ms\tremaining: 153ms\n",
            "41:\tlearn: 0.3598344\ttotal: 108ms\tremaining: 148ms\n",
            "42:\tlearn: 0.3580995\ttotal: 109ms\tremaining: 144ms\n",
            "43:\tlearn: 0.3568115\ttotal: 110ms\tremaining: 140ms\n",
            "44:\tlearn: 0.3547087\ttotal: 112ms\tremaining: 136ms\n",
            "45:\tlearn: 0.3535313\ttotal: 113ms\tremaining: 132ms\n",
            "46:\tlearn: 0.3512369\ttotal: 114ms\tremaining: 129ms\n",
            "47:\tlearn: 0.3503060\ttotal: 116ms\tremaining: 125ms\n",
            "48:\tlearn: 0.3486285\ttotal: 117ms\tremaining: 122ms\n",
            "49:\tlearn: 0.3468178\ttotal: 118ms\tremaining: 118ms\n",
            "50:\tlearn: 0.3460746\ttotal: 120ms\tremaining: 115ms\n",
            "51:\tlearn: 0.3449058\ttotal: 121ms\tremaining: 112ms\n",
            "52:\tlearn: 0.3434112\ttotal: 122ms\tremaining: 108ms\n",
            "53:\tlearn: 0.3422115\ttotal: 124ms\tremaining: 105ms\n",
            "54:\tlearn: 0.3398835\ttotal: 125ms\tremaining: 102ms\n",
            "55:\tlearn: 0.3387398\ttotal: 126ms\tremaining: 99.2ms\n",
            "56:\tlearn: 0.3376879\ttotal: 128ms\tremaining: 96.3ms\n",
            "57:\tlearn: 0.3370721\ttotal: 129ms\tremaining: 93.4ms\n",
            "58:\tlearn: 0.3363958\ttotal: 130ms\tremaining: 90.7ms\n",
            "59:\tlearn: 0.3356737\ttotal: 132ms\tremaining: 87.9ms\n",
            "60:\tlearn: 0.3344406\ttotal: 133ms\tremaining: 85.2ms\n",
            "61:\tlearn: 0.3334218\ttotal: 135ms\tremaining: 82.7ms\n",
            "62:\tlearn: 0.3329415\ttotal: 136ms\tremaining: 80.1ms\n",
            "63:\tlearn: 0.3314444\ttotal: 138ms\tremaining: 77.6ms\n",
            "64:\tlearn: 0.3308009\ttotal: 140ms\tremaining: 75.2ms\n",
            "65:\tlearn: 0.3299505\ttotal: 141ms\tremaining: 72.7ms\n",
            "66:\tlearn: 0.3287396\ttotal: 143ms\tremaining: 70.2ms\n",
            "67:\tlearn: 0.3283236\ttotal: 144ms\tremaining: 67.8ms\n",
            "68:\tlearn: 0.3279229\ttotal: 146ms\tremaining: 65.4ms\n",
            "69:\tlearn: 0.3262611\ttotal: 148ms\tremaining: 63.5ms\n",
            "70:\tlearn: 0.3251707\ttotal: 150ms\tremaining: 61.1ms\n",
            "71:\tlearn: 0.3241794\ttotal: 151ms\tremaining: 58.9ms\n",
            "72:\tlearn: 0.3236208\ttotal: 153ms\tremaining: 56.6ms\n",
            "73:\tlearn: 0.3224581\ttotal: 155ms\tremaining: 54.3ms\n",
            "74:\tlearn: 0.3213571\ttotal: 156ms\tremaining: 52.1ms\n",
            "75:\tlearn: 0.3200351\ttotal: 158ms\tremaining: 49.8ms\n",
            "76:\tlearn: 0.3188227\ttotal: 159ms\tremaining: 47.6ms\n",
            "77:\tlearn: 0.3182434\ttotal: 161ms\tremaining: 45.4ms\n",
            "78:\tlearn: 0.3170992\ttotal: 163ms\tremaining: 43.2ms\n",
            "79:\tlearn: 0.3156751\ttotal: 164ms\tremaining: 41ms\n",
            "80:\tlearn: 0.3149180\ttotal: 166ms\tremaining: 38.9ms\n",
            "81:\tlearn: 0.3135282\ttotal: 167ms\tremaining: 36.7ms\n",
            "82:\tlearn: 0.3125083\ttotal: 169ms\tremaining: 34.6ms\n",
            "83:\tlearn: 0.3120316\ttotal: 170ms\tremaining: 32.4ms\n",
            "84:\tlearn: 0.3109544\ttotal: 172ms\tremaining: 30.3ms\n",
            "85:\tlearn: 0.3103099\ttotal: 173ms\tremaining: 28.2ms\n",
            "86:\tlearn: 0.3089436\ttotal: 175ms\tremaining: 26.2ms\n",
            "87:\tlearn: 0.3076869\ttotal: 177ms\tremaining: 24.1ms\n",
            "88:\tlearn: 0.3064941\ttotal: 178ms\tremaining: 22ms\n",
            "89:\tlearn: 0.3050115\ttotal: 180ms\tremaining: 20ms\n",
            "90:\tlearn: 0.3039538\ttotal: 182ms\tremaining: 18ms\n",
            "91:\tlearn: 0.3029014\ttotal: 183ms\tremaining: 15.9ms\n",
            "92:\tlearn: 0.3015107\ttotal: 185ms\tremaining: 13.9ms\n",
            "93:\tlearn: 0.3003368\ttotal: 186ms\tremaining: 11.9ms\n",
            "94:\tlearn: 0.2989161\ttotal: 188ms\tremaining: 9.89ms\n",
            "95:\tlearn: 0.2985514\ttotal: 190ms\tremaining: 7.9ms\n",
            "96:\tlearn: 0.2973930\ttotal: 191ms\tremaining: 5.91ms\n",
            "97:\tlearn: 0.2958901\ttotal: 193ms\tremaining: 3.93ms\n",
            "98:\tlearn: 0.2948768\ttotal: 194ms\tremaining: 1.96ms\n",
            "99:\tlearn: 0.2944018\ttotal: 196ms\tremaining: 0us\n",
            "Accuracy: 0.841598\n"
          ]
        }
      ]
    },
    {
      "cell_type": "code",
      "source": [
        "# Accuracy\n",
        "accuracy = accuracy_score(Y_test, target_prediction)\n",
        "print(\"Accuracy:\", accuracy)\n",
        "\n",
        "# Precision\n",
        "precision = precision_score(Y_test, target_prediction)\n",
        "print(\"Precision:\", precision)\n",
        "\n",
        "# Recall\n",
        "recall = recall_score(Y_test, target_prediction)\n",
        "print(\"Recall:\", recall)\n",
        "\n",
        "# F1-Score\n",
        "f1 = f1_score(Y_test, target_prediction)\n",
        "print(\"F1-Score:\", f1)\n",
        "\n",
        "# ROC-AUC\n",
        "roc_auc = roc_auc_score(Y_test, target_prediction)\n",
        "print(\"ROC-AUC:\", roc_auc)\n",
        "\n",
        "# ROC Curve (if you want to visualize it)\n",
        "fpr, tpr, _ = roc_curve(Y_test, target_prediction)\n",
        "roc_auc = auc(fpr, tpr)"
      ],
      "metadata": {
        "colab": {
          "base_uri": "https://localhost:8080/"
        },
        "id": "mmtD9s_xX4gf",
        "outputId": "8eb58214-43df-4fe4-e210-60591f5b9151"
      },
      "execution_count": null,
      "outputs": [
        {
          "output_type": "stream",
          "name": "stdout",
          "text": [
            "Accuracy: 0.8415977961432507\n",
            "Precision: 0.8527472527472527\n",
            "Recall: 0.8899082568807339\n",
            "F1-Score: 0.8709315375982043\n",
            "ROC-AUC: 0.8294368870610566\n"
          ]
        }
      ]
    },
    {
      "cell_type": "markdown",
      "source": [
        "# AdaBoost"
      ],
      "metadata": {
        "id": "eRHMbboQY8Dy"
      }
    },
    {
      "cell_type": "code",
      "source": [
        "from sklearn.ensemble import AdaBoostClassifier\n",
        "\n",
        "model = AdaBoostClassifier(n_estimators=300,  # Adjust the number of estimators (trees) as needed\n",
        "                  learning_rate=0.1) # Adjust the learning rate as needed\n",
        "\n",
        "model.fit(X_train, Y_train)\n",
        "\n",
        "target_prediction = model.predict(X_test)\n",
        "\n",
        "# Evaluate the model's accuracy on the test data\n",
        "accuracy = accuracy_score(Y_test, target_prediction)\n",
        "print(f'Accuracy: {accuracy:.6f}')"
      ],
      "metadata": {
        "colab": {
          "base_uri": "https://localhost:8080/"
        },
        "id": "c7PqJWYKKstl",
        "outputId": "6a4becaf-f479-4f9b-8daa-e67411a12d5c"
      },
      "execution_count": null,
      "outputs": [
        {
          "output_type": "stream",
          "name": "stdout",
          "text": [
            "Accuracy: 0.818182\n"
          ]
        }
      ]
    },
    {
      "cell_type": "code",
      "source": [
        "# Accuracy\n",
        "accuracy = accuracy_score(Y_test, target_prediction)\n",
        "print(\"Accuracy:\", accuracy)\n",
        "\n",
        "# Precision\n",
        "precision = precision_score(Y_test, target_prediction)\n",
        "print(\"Precision:\", precision)\n",
        "\n",
        "# Recall\n",
        "recall = recall_score(Y_test, target_prediction)\n",
        "print(\"Recall:\", recall)\n",
        "\n",
        "# F1-Score\n",
        "f1 = f1_score(Y_test, target_prediction)\n",
        "print(\"F1-Score:\", f1)\n",
        "\n",
        "# ROC-AUC\n",
        "roc_auc = roc_auc_score(Y_test, target_prediction)\n",
        "print(\"ROC-AUC:\", roc_auc)\n",
        "\n",
        "# ROC Curve (if you want to visualize it)\n",
        "fpr, tpr, _ = roc_curve(Y_test, target_prediction)\n",
        "roc_auc = auc(fpr, tpr)"
      ],
      "metadata": {
        "colab": {
          "base_uri": "https://localhost:8080/"
        },
        "id": "fTqNjjWTX_AH",
        "outputId": "182b0e18-2472-4c71-fd3a-ba32b20a9942"
      },
      "execution_count": null,
      "outputs": [
        {
          "output_type": "stream",
          "name": "stdout",
          "text": [
            "Accuracy: 0.8181818181818182\n",
            "Precision: 0.8333333333333334\n",
            "Recall: 0.8715596330275229\n",
            "F1-Score: 0.852017937219731\n",
            "ROC-AUC: 0.8047453337551407\n"
          ]
        }
      ]
    },
    {
      "cell_type": "markdown",
      "source": [],
      "metadata": {
        "id": "qcwHm5YAY-pT"
      }
    }
  ]
}